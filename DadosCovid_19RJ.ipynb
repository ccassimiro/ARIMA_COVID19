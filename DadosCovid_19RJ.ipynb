{
  "nbformat": 4,
  "nbformat_minor": 0,
  "metadata": {
    "colab": {
      "name": "DadosCovid_19RJ.ipynb",
      "provenance": [],
      "authorship_tag": "ABX9TyPFdflhzDWbqT0l7xaoUneu",
      "include_colab_link": true
    },
    "kernelspec": {
      "name": "python3",
      "display_name": "Python 3"
    }
  },
  "cells": [
    {
      "cell_type": "markdown",
      "metadata": {
        "id": "view-in-github",
        "colab_type": "text"
      },
      "source": [
        "<a href=\"https://colab.research.google.com/github/ccassimiro/ARIMA_COVID19/blob/main/DadosCovid_19RJ.ipynb\" target=\"_parent\"><img src=\"https://colab.research.google.com/assets/colab-badge.svg\" alt=\"Open In Colab\"/></a>"
      ]
    },
    {
      "cell_type": "code",
      "metadata": {
        "id": "4GqPEgtcPqg4"
      },
      "source": [
        "import pandas as pd\n",
        "import numpy as np\n",
        "import matplotlib.pyplot as plt\n",
        "import time"
      ],
      "execution_count": null,
      "outputs": []
    },
    {
      "cell_type": "code",
      "metadata": {
        "colab": {
          "base_uri": "https://localhost:8080/",
          "height": 111
        },
        "id": "-hJXX7OBPwFE",
        "outputId": "94cb5910-a71d-4c43-f3bc-fb54203e9aaa"
      },
      "source": [
        "df = pd.read_csv(\"brazil_covid19_cities.csv\")\n",
        "df.head(2)"
      ],
      "execution_count": null,
      "outputs": [
        {
          "output_type": "execute_result",
          "data": {
            "text/html": [
              "<div>\n",
              "<style scoped>\n",
              "    .dataframe tbody tr th:only-of-type {\n",
              "        vertical-align: middle;\n",
              "    }\n",
              "\n",
              "    .dataframe tbody tr th {\n",
              "        vertical-align: top;\n",
              "    }\n",
              "\n",
              "    .dataframe thead th {\n",
              "        text-align: right;\n",
              "    }\n",
              "</style>\n",
              "<table border=\"1\" class=\"dataframe\">\n",
              "  <thead>\n",
              "    <tr style=\"text-align: right;\">\n",
              "      <th></th>\n",
              "      <th>date</th>\n",
              "      <th>state</th>\n",
              "      <th>name</th>\n",
              "      <th>code</th>\n",
              "      <th>cases</th>\n",
              "      <th>deaths</th>\n",
              "    </tr>\n",
              "  </thead>\n",
              "  <tbody>\n",
              "    <tr>\n",
              "      <th>0</th>\n",
              "      <td>2020-03-27</td>\n",
              "      <td>AC</td>\n",
              "      <td>Acrelândia</td>\n",
              "      <td>120001.0</td>\n",
              "      <td>0</td>\n",
              "      <td>0</td>\n",
              "    </tr>\n",
              "    <tr>\n",
              "      <th>1</th>\n",
              "      <td>2020-03-27</td>\n",
              "      <td>AC</td>\n",
              "      <td>Assis Brasil</td>\n",
              "      <td>120005.0</td>\n",
              "      <td>0</td>\n",
              "      <td>0</td>\n",
              "    </tr>\n",
              "  </tbody>\n",
              "</table>\n",
              "</div>"
            ],
            "text/plain": [
              "         date state          name      code  cases  deaths\n",
              "0  2020-03-27    AC    Acrelândia  120001.0      0       0\n",
              "1  2020-03-27    AC  Assis Brasil  120005.0      0       0"
            ]
          },
          "metadata": {
            "tags": []
          },
          "execution_count": 118
        }
      ]
    },
    {
      "cell_type": "code",
      "metadata": {
        "colab": {
          "base_uri": "https://localhost:8080/",
          "height": 111
        },
        "id": "mb-dKLboQPJB",
        "outputId": "044cab63-09db-4539-8f1d-a88d92f3e975"
      },
      "source": [
        "rj_city = df.loc[df.name == \"Rio de Janeiro\"]\n",
        "rj_city.head(2)"
      ],
      "execution_count": null,
      "outputs": [
        {
          "output_type": "execute_result",
          "data": {
            "text/html": [
              "<div>\n",
              "<style scoped>\n",
              "    .dataframe tbody tr th:only-of-type {\n",
              "        vertical-align: middle;\n",
              "    }\n",
              "\n",
              "    .dataframe tbody tr th {\n",
              "        vertical-align: top;\n",
              "    }\n",
              "\n",
              "    .dataframe thead th {\n",
              "        text-align: right;\n",
              "    }\n",
              "</style>\n",
              "<table border=\"1\" class=\"dataframe\">\n",
              "  <thead>\n",
              "    <tr style=\"text-align: right;\">\n",
              "      <th></th>\n",
              "      <th>date</th>\n",
              "      <th>state</th>\n",
              "      <th>name</th>\n",
              "      <th>code</th>\n",
              "      <th>cases</th>\n",
              "      <th>deaths</th>\n",
              "    </tr>\n",
              "  </thead>\n",
              "  <tbody>\n",
              "    <tr>\n",
              "      <th>3660</th>\n",
              "      <td>2020-03-27</td>\n",
              "      <td>RJ</td>\n",
              "      <td>Rio de Janeiro</td>\n",
              "      <td>330455.0</td>\n",
              "      <td>0</td>\n",
              "      <td>0</td>\n",
              "    </tr>\n",
              "    <tr>\n",
              "      <th>9230</th>\n",
              "      <td>2020-03-28</td>\n",
              "      <td>RJ</td>\n",
              "      <td>Rio de Janeiro</td>\n",
              "      <td>330455.0</td>\n",
              "      <td>489</td>\n",
              "      <td>9</td>\n",
              "    </tr>\n",
              "  </tbody>\n",
              "</table>\n",
              "</div>"
            ],
            "text/plain": [
              "            date state            name      code  cases  deaths\n",
              "3660  2020-03-27    RJ  Rio de Janeiro  330455.0      0       0\n",
              "9230  2020-03-28    RJ  Rio de Janeiro  330455.0    489       9"
            ]
          },
          "metadata": {
            "tags": []
          },
          "execution_count": 119
        }
      ]
    },
    {
      "cell_type": "code",
      "metadata": {
        "colab": {
          "base_uri": "https://localhost:8080/",
          "height": 142
        },
        "id": "CSQaNdoFQVDC",
        "outputId": "cb137687-9d74-4df5-e70d-a888238ea2cb"
      },
      "source": [
        "rj_city = rj_city.set_index('date')\n",
        "rj_city.index = pd.to_datetime(rj_city.index, format='%Y-%m-%d')\n",
        "rj_city = rj_city[['state','deaths']].groupby('date').sum()\n",
        "rj_city.head(2)"
      ],
      "execution_count": null,
      "outputs": [
        {
          "output_type": "execute_result",
          "data": {
            "text/html": [
              "<div>\n",
              "<style scoped>\n",
              "    .dataframe tbody tr th:only-of-type {\n",
              "        vertical-align: middle;\n",
              "    }\n",
              "\n",
              "    .dataframe tbody tr th {\n",
              "        vertical-align: top;\n",
              "    }\n",
              "\n",
              "    .dataframe thead th {\n",
              "        text-align: right;\n",
              "    }\n",
              "</style>\n",
              "<table border=\"1\" class=\"dataframe\">\n",
              "  <thead>\n",
              "    <tr style=\"text-align: right;\">\n",
              "      <th></th>\n",
              "      <th>deaths</th>\n",
              "    </tr>\n",
              "    <tr>\n",
              "      <th>date</th>\n",
              "      <th></th>\n",
              "    </tr>\n",
              "  </thead>\n",
              "  <tbody>\n",
              "    <tr>\n",
              "      <th>2020-03-27</th>\n",
              "      <td>0</td>\n",
              "    </tr>\n",
              "    <tr>\n",
              "      <th>2020-03-28</th>\n",
              "      <td>9</td>\n",
              "    </tr>\n",
              "  </tbody>\n",
              "</table>\n",
              "</div>"
            ],
            "text/plain": [
              "            deaths\n",
              "date              \n",
              "2020-03-27       0\n",
              "2020-03-28       9"
            ]
          },
          "metadata": {
            "tags": []
          },
          "execution_count": 120
        }
      ]
    },
    {
      "cell_type": "code",
      "metadata": {
        "colab": {
          "base_uri": "https://localhost:8080/",
          "height": 142
        },
        "id": "idW4xIWFQXVI",
        "outputId": "713abdc4-c96e-48ad-cb78-921a852029ec"
      },
      "source": [
        "rj_city.iloc[[0, -1]]"
      ],
      "execution_count": null,
      "outputs": [
        {
          "output_type": "execute_result",
          "data": {
            "text/html": [
              "<div>\n",
              "<style scoped>\n",
              "    .dataframe tbody tr th:only-of-type {\n",
              "        vertical-align: middle;\n",
              "    }\n",
              "\n",
              "    .dataframe tbody tr th {\n",
              "        vertical-align: top;\n",
              "    }\n",
              "\n",
              "    .dataframe thead th {\n",
              "        text-align: right;\n",
              "    }\n",
              "</style>\n",
              "<table border=\"1\" class=\"dataframe\">\n",
              "  <thead>\n",
              "    <tr style=\"text-align: right;\">\n",
              "      <th></th>\n",
              "      <th>deaths</th>\n",
              "    </tr>\n",
              "    <tr>\n",
              "      <th>date</th>\n",
              "      <th></th>\n",
              "    </tr>\n",
              "  </thead>\n",
              "  <tbody>\n",
              "    <tr>\n",
              "      <th>2020-03-27</th>\n",
              "      <td>0</td>\n",
              "    </tr>\n",
              "    <tr>\n",
              "      <th>2020-11-25</th>\n",
              "      <td>13115</td>\n",
              "    </tr>\n",
              "  </tbody>\n",
              "</table>\n",
              "</div>"
            ],
            "text/plain": [
              "            deaths\n",
              "date              \n",
              "2020-03-27       0\n",
              "2020-11-25   13115"
            ]
          },
          "metadata": {
            "tags": []
          },
          "execution_count": 121
        }
      ]
    },
    {
      "cell_type": "code",
      "metadata": {
        "id": "NaWCJ5O8Qau0"
      },
      "source": [
        "from statsmodels.tsa.seasonal import seasonal_decompose"
      ],
      "execution_count": null,
      "outputs": []
    },
    {
      "cell_type": "code",
      "metadata": {
        "colab": {
          "base_uri": "https://localhost:8080/",
          "height": 585
        },
        "id": "M5DdrVfvQdJI",
        "outputId": "3ce142f9-26cd-48c9-b9fb-9f297c7e2a1c"
      },
      "source": [
        "seasonplot = seasonal_decompose(rj_city)\n",
        "# plotar a decomposicao\n",
        "fig, (ax1, ax2, ax3, ax4) = plt.subplots(4, 1, figsize=(15,8))\n",
        "seasonplot.observed.plot(ax=ax1)\n",
        "seasonplot.trend.plot(ax=ax2)\n",
        "seasonplot.seasonal.plot(ax=ax3)\n",
        "seasonplot.resid.plot(ax=ax4)\n",
        "plt.tight_layout()"
      ],
      "execution_count": null,
      "outputs": [
        {
          "output_type": "display_data",
          "data": {
            "image/png": "[encoded data removed]",
            "text/plain": [
              "<Figure size 1080x576 with 4 Axes>"
            ]
          },
          "metadata": {
            "tags": [],
            "needs_background": "light"
          }
        }
      ]
    },
    {
      "cell_type": "code",
      "metadata": {
        "id": "EGacQ38LQyQy"
      },
      "source": [
        "pip install pmdarima"
      ],
      "execution_count": null,
      "outputs": []
    },
    {
      "cell_type": "code",
      "metadata": {
        "colab": {
          "base_uri": "https://localhost:8080/"
        },
        "id": "3dBpbubaQjw_",
        "outputId": "31d700cb-63b0-45c0-99cb-2eae02f5c680"
      },
      "source": [
        "from pmdarima.arima import auto_arima\n",
        "bruteforce_modelo = auto_arima(rj_city, start_p=0, start_d=0 ,start_q=0,max_p=8, max_d=8,max_q=8, m=7, start_P=0, seasonal=True, d=1, D=1, trace=True, error_action='ignore',suppress_warnings=True, stepwise=False)"
      ],
      "execution_count": null,
      "outputs": [
        {
          "output_type": "stream",
          "text": [
            " ARIMA(0,1,0)(0,1,0)[7]             : AIC=2366.631, Time=0.02 sec\n",
            " ARIMA(0,1,0)(0,1,1)[7]             : AIC=2341.782, Time=0.13 sec\n",
            " ARIMA(0,1,0)(0,1,2)[7]             : AIC=2343.756, Time=0.43 sec\n",
            " ARIMA(0,1,0)(1,1,0)[7]             : AIC=2344.778, Time=0.12 sec\n",
            " ARIMA(0,1,0)(1,1,1)[7]             : AIC=2343.751, Time=0.27 sec\n",
            " ARIMA(0,1,0)(1,1,2)[7]             : AIC=2334.571, Time=2.26 sec\n",
            " ARIMA(0,1,0)(2,1,0)[7]             : AIC=2344.492, Time=0.26 sec\n",
            " ARIMA(0,1,0)(2,1,1)[7]             : AIC=2333.890, Time=1.89 sec\n",
            " ARIMA(0,1,0)(2,1,2)[7]             : AIC=2335.888, Time=2.87 sec\n",
            " ARIMA(0,1,1)(0,1,0)[7]             : AIC=2364.469, Time=0.07 sec\n",
            " ARIMA(0,1,1)(0,1,1)[7]             : AIC=2331.456, Time=0.27 sec\n",
            " ARIMA(0,1,1)(0,1,2)[7]             : AIC=2333.185, Time=0.67 sec\n",
            " ARIMA(0,1,1)(1,1,0)[7]             : AIC=2337.612, Time=0.18 sec\n",
            " ARIMA(0,1,1)(1,1,1)[7]             : AIC=2326.917, Time=1.02 sec\n",
            " ARIMA(0,1,1)(1,1,2)[7]             : AIC=2322.685, Time=2.74 sec\n",
            " ARIMA(0,1,1)(2,1,0)[7]             : AIC=2335.657, Time=0.36 sec\n",
            " ARIMA(0,1,1)(2,1,1)[7]             : AIC=2322.061, Time=2.35 sec\n",
            " ARIMA(0,1,1)(2,1,2)[7]             : AIC=2324.042, Time=3.41 sec\n",
            " ARIMA(0,1,2)(0,1,0)[7]             : AIC=2364.083, Time=0.13 sec\n",
            " ARIMA(0,1,2)(0,1,1)[7]             : AIC=2329.251, Time=0.40 sec\n",
            " ARIMA(0,1,2)(0,1,2)[7]             : AIC=2330.085, Time=1.20 sec\n",
            " ARIMA(0,1,2)(1,1,0)[7]             : AIC=2337.375, Time=0.21 sec\n",
            " ARIMA(0,1,2)(1,1,1)[7]             : AIC=2322.021, Time=1.72 sec\n",
            " ARIMA(0,1,2)(1,1,2)[7]             : AIC=2319.517, Time=3.61 sec\n",
            " ARIMA(0,1,2)(2,1,0)[7]             : AIC=2334.467, Time=0.46 sec\n",
            " ARIMA(0,1,2)(2,1,1)[7]             : AIC=2319.333, Time=2.88 sec\n",
            " ARIMA(0,1,3)(0,1,0)[7]             : AIC=2356.398, Time=0.17 sec\n",
            " ARIMA(0,1,3)(0,1,1)[7]             : AIC=2312.694, Time=0.59 sec\n",
            " ARIMA(0,1,3)(0,1,2)[7]             : AIC=2312.575, Time=1.98 sec\n",
            " ARIMA(0,1,3)(1,1,0)[7]             : AIC=2325.861, Time=0.28 sec\n",
            " ARIMA(0,1,3)(1,1,1)[7]             : AIC=2305.143, Time=0.93 sec\n",
            " ARIMA(0,1,3)(2,1,0)[7]             : AIC=2319.663, Time=0.60 sec\n",
            " ARIMA(0,1,4)(0,1,0)[7]             : AIC=2357.045, Time=0.37 sec\n",
            " ARIMA(0,1,4)(0,1,1)[7]             : AIC=2314.348, Time=0.76 sec\n",
            " ARIMA(0,1,4)(1,1,0)[7]             : AIC=2327.443, Time=0.38 sec\n",
            " ARIMA(0,1,5)(0,1,0)[7]             : AIC=2350.209, Time=0.43 sec\n",
            " ARIMA(1,1,0)(0,1,0)[7]             : AIC=2363.595, Time=0.07 sec\n",
            " ARIMA(1,1,0)(0,1,1)[7]             : AIC=2326.169, Time=0.23 sec\n",
            " ARIMA(1,1,0)(0,1,2)[7]             : AIC=2326.995, Time=0.84 sec\n",
            " ARIMA(1,1,0)(1,1,0)[7]             : AIC=2335.236, Time=0.15 sec\n",
            " ARIMA(1,1,0)(1,1,1)[7]             : AIC=2318.920, Time=0.92 sec\n",
            " ARIMA(1,1,0)(1,1,2)[7]             : AIC=2316.033, Time=2.70 sec\n",
            " ARIMA(1,1,0)(2,1,0)[7]             : AIC=2332.152, Time=0.40 sec\n",
            " ARIMA(1,1,0)(2,1,1)[7]             : AIC=2315.676, Time=2.40 sec\n",
            " ARIMA(1,1,0)(2,1,2)[7]             : AIC=2317.628, Time=3.33 sec\n",
            " ARIMA(1,1,1)(0,1,0)[7]             : AIC=2359.045, Time=0.13 sec\n",
            " ARIMA(1,1,1)(0,1,1)[7]             : AIC=2279.881, Time=1.12 sec\n",
            " ARIMA(1,1,1)(0,1,2)[7]             : AIC=2274.625, Time=1.73 sec\n",
            " ARIMA(1,1,1)(1,1,0)[7]             : AIC=2320.905, Time=0.36 sec\n",
            " ARIMA(1,1,1)(1,1,1)[7]             : AIC=2273.740, Time=1.87 sec\n",
            " ARIMA(1,1,1)(1,1,2)[7]             : AIC=2276.354, Time=3.05 sec\n",
            " ARIMA(1,1,1)(2,1,0)[7]             : AIC=2310.526, Time=0.93 sec\n",
            " ARIMA(1,1,1)(2,1,1)[7]             : AIC=2275.318, Time=3.56 sec\n",
            " ARIMA(1,1,2)(0,1,0)[7]             : AIC=2358.700, Time=0.22 sec\n",
            " ARIMA(1,1,2)(0,1,1)[7]             : AIC=2281.825, Time=1.97 sec\n",
            " ARIMA(1,1,2)(0,1,2)[7]             : AIC=2276.559, Time=3.78 sec\n",
            " ARIMA(1,1,2)(1,1,0)[7]             : AIC=2322.368, Time=0.45 sec\n",
            " ARIMA(1,1,2)(1,1,1)[7]             : AIC=2275.697, Time=2.43 sec\n",
            " ARIMA(1,1,2)(2,1,0)[7]             : AIC=2311.898, Time=1.50 sec\n",
            " ARIMA(1,1,3)(0,1,0)[7]             : AIC=2354.238, Time=0.48 sec\n",
            " ARIMA(1,1,3)(0,1,1)[7]             : AIC=2282.241, Time=1.68 sec\n",
            " ARIMA(1,1,3)(1,1,0)[7]             : AIC=2321.435, Time=0.64 sec\n",
            " ARIMA(1,1,4)(0,1,0)[7]             : AIC=2343.745, Time=0.91 sec\n",
            " ARIMA(2,1,0)(0,1,0)[7]             : AIC=2361.932, Time=0.09 sec\n",
            " ARIMA(2,1,0)(0,1,1)[7]             : AIC=2314.999, Time=0.50 sec\n",
            " ARIMA(2,1,0)(0,1,2)[7]             : AIC=2305.856, Time=1.12 sec\n",
            " ARIMA(2,1,0)(1,1,0)[7]             : AIC=2331.804, Time=0.25 sec\n",
            " ARIMA(2,1,0)(1,1,1)[7]             : AIC=2302.786, Time=0.66 sec\n",
            " ARIMA(2,1,0)(1,1,2)[7]             : AIC=2303.380, Time=3.50 sec\n",
            " ARIMA(2,1,0)(2,1,0)[7]             : AIC=2326.130, Time=0.47 sec\n",
            " ARIMA(2,1,0)(2,1,1)[7]             : AIC=2303.374, Time=1.32 sec\n",
            " ARIMA(2,1,1)(0,1,0)[7]             : AIC=2359.617, Time=0.18 sec\n",
            " ARIMA(2,1,1)(0,1,1)[7]             : AIC=2281.833, Time=1.56 sec\n",
            " ARIMA(2,1,1)(0,1,2)[7]             : AIC=2276.567, Time=3.31 sec\n",
            " ARIMA(2,1,1)(1,1,0)[7]             : AIC=2322.519, Time=0.53 sec\n",
            " ARIMA(2,1,1)(1,1,1)[7]             : AIC=2275.729, Time=1.66 sec\n",
            " ARIMA(2,1,1)(2,1,0)[7]             : AIC=2312.052, Time=0.93 sec\n",
            " ARIMA(2,1,2)(0,1,0)[7]             : AIC=2362.877, Time=0.32 sec\n",
            " ARIMA(2,1,2)(0,1,1)[7]             : AIC=2279.469, Time=2.27 sec\n",
            " ARIMA(2,1,2)(1,1,0)[7]             : AIC=2323.959, Time=0.74 sec\n",
            " ARIMA(2,1,3)(0,1,0)[7]             : AIC=2332.423, Time=0.99 sec\n",
            " ARIMA(3,1,0)(0,1,0)[7]             : AIC=2352.476, Time=0.13 sec\n",
            " ARIMA(3,1,0)(0,1,1)[7]             : AIC=2292.521, Time=1.09 sec\n",
            " ARIMA(3,1,0)(0,1,2)[7]             : AIC=2283.171, Time=1.46 sec\n",
            " ARIMA(3,1,0)(1,1,0)[7]             : AIC=2317.995, Time=0.36 sec\n",
            " ARIMA(3,1,0)(1,1,1)[7]             : AIC=2281.229, Time=0.91 sec\n",
            " ARIMA(3,1,0)(2,1,0)[7]             : AIC=2308.082, Time=0.60 sec\n",
            " ARIMA(3,1,1)(0,1,0)[7]             : AIC=2352.360, Time=0.23 sec\n",
            " ARIMA(3,1,1)(0,1,1)[7]             : AIC=2282.722, Time=1.98 sec\n",
            " ARIMA(3,1,1)(1,1,0)[7]             : AIC=2319.944, Time=0.48 sec\n",
            " ARIMA(3,1,2)(0,1,0)[7]             : AIC=2345.561, Time=0.63 sec\n",
            " ARIMA(4,1,0)(0,1,0)[7]             : AIC=2352.159, Time=0.14 sec\n",
            " ARIMA(4,1,0)(0,1,1)[7]             : AIC=2293.703, Time=1.22 sec\n",
            " ARIMA(4,1,0)(1,1,0)[7]             : AIC=2319.976, Time=0.39 sec\n",
            " ARIMA(4,1,1)(0,1,0)[7]             : AIC=2353.844, Time=0.31 sec\n",
            " ARIMA(5,1,0)(0,1,0)[7]             : AIC=2353.006, Time=0.25 sec\n",
            "Total fit time: 104.902 seconds\n"
          ],
          "name": "stdout"
        }
      ]
    },
    {
      "cell_type": "code",
      "metadata": {
        "colab": {
          "base_uri": "https://localhost:8080/"
        },
        "id": "erEg-tGoRg2T",
        "outputId": "c7f80ff2-c137-47e7-a723-7f0d7b24f8d5"
      },
      "source": [
        "print(f\"Resultado AIC: {bruteforce_modelo.aic()}\")\n",
        "print(f\"Resultado melhores parametros (p,d,q): {bruteforce_modelo.order}\")"
      ],
      "execution_count": null,
      "outputs": [
        {
          "output_type": "stream",
          "text": [
            "Resultado AIC: 2273.7404787896858\n",
            "Resultado melhores parametros (p,d,q): (1, 1, 1)\n"
          ],
          "name": "stdout"
        }
      ]
    },
    {
      "cell_type": "code",
      "metadata": {
        "id": "lGAvZILIRj6w"
      },
      "source": [
        "futuro_forecast = bruteforce_modelo.predict(n_periods=30)"
      ],
      "execution_count": null,
      "outputs": []
    },
    {
      "cell_type": "code",
      "metadata": {
        "colab": {
          "base_uri": "https://localhost:8080/"
        },
        "id": "fXnZTL57RlbC",
        "outputId": "0fe3c0f0-f525-4430-bd14-eb41ae3e5ca5"
      },
      "source": [
        "import datetime \n",
        "dataatual = datetime.datetime.today()\n",
        "dataatual = datetime.datetime.today() - datetime.timedelta(days=1)\n",
        "lista_datas = [dataatual + datetime.timedelta(days=x) for x in range(30)]\n",
        "lista_datas = [pd.datetime.strftime(i,'%Y-%m-%d') for i in lista_datas]"
      ],
      "execution_count": null,
      "outputs": [
        {
          "output_type": "stream",
          "text": [
            "/usr/local/lib/python3.6/dist-packages/ipykernel_launcher.py:5: FutureWarning:\n",
            "\n",
            "The pandas.datetime class is deprecated and will be removed from pandas in a future version. Import from datetime instead.\n",
            "\n"
          ],
          "name": "stderr"
        }
      ]
    },
    {
      "cell_type": "code",
      "metadata": {
        "colab": {
          "base_uri": "https://localhost:8080/",
          "height": 142
        },
        "id": "CtDB6UP2RnAU",
        "outputId": "8f2ea69e-181c-43ea-8797-ad3591224284"
      },
      "source": [
        "futuro_forecast = bruteforce_modelo.predict(n_periods=30)\n",
        "futuro_forecast = pd.DataFrame(futuro_forecast,index = lista_datas,columns=[\"deaths\"])\n",
        "futuro_forecast.index.name = 'data'\n",
        "futuro_forecast.index = pd.to_datetime(futuro_forecast.index)\n",
        "futuro_forecast.deaths = round(futuro_forecast.deaths,0)\n",
        "futuro_forecast.head(2)"
      ],
      "execution_count": null,
      "outputs": [
        {
          "output_type": "execute_result",
          "data": {
            "text/html": [
              "<div>\n",
              "<style scoped>\n",
              "    .dataframe tbody tr th:only-of-type {\n",
              "        vertical-align: middle;\n",
              "    }\n",
              "\n",
              "    .dataframe tbody tr th {\n",
              "        vertical-align: top;\n",
              "    }\n",
              "\n",
              "    .dataframe thead th {\n",
              "        text-align: right;\n",
              "    }\n",
              "</style>\n",
              "<table border=\"1\" class=\"dataframe\">\n",
              "  <thead>\n",
              "    <tr style=\"text-align: right;\">\n",
              "      <th></th>\n",
              "      <th>deaths</th>\n",
              "    </tr>\n",
              "    <tr>\n",
              "      <th>data</th>\n",
              "      <th></th>\n",
              "    </tr>\n",
              "  </thead>\n",
              "  <tbody>\n",
              "    <tr>\n",
              "      <th>2020-11-27</th>\n",
              "      <td>13177.0</td>\n",
              "    </tr>\n",
              "    <tr>\n",
              "      <th>2020-11-28</th>\n",
              "      <td>13229.0</td>\n",
              "    </tr>\n",
              "  </tbody>\n",
              "</table>\n",
              "</div>"
            ],
            "text/plain": [
              "             deaths\n",
              "data               \n",
              "2020-11-27  13177.0\n",
              "2020-11-28  13229.0"
            ]
          },
          "metadata": {
            "tags": []
          },
          "execution_count": 129
        }
      ]
    },
    {
      "cell_type": "code",
      "metadata": {
        "colab": {
          "base_uri": "https://localhost:8080/",
          "height": 111
        },
        "id": "lx-KihpwRrHh",
        "outputId": "8826fd34-6870-45c6-a310-1eb5902aac62"
      },
      "source": [
        "final = pd.concat([rj_city,futuro_forecast])\n",
        "final.head(2)"
      ],
      "execution_count": null,
      "outputs": [
        {
          "output_type": "execute_result",
          "data": {
            "text/html": [
              "<div>\n",
              "<style scoped>\n",
              "    .dataframe tbody tr th:only-of-type {\n",
              "        vertical-align: middle;\n",
              "    }\n",
              "\n",
              "    .dataframe tbody tr th {\n",
              "        vertical-align: top;\n",
              "    }\n",
              "\n",
              "    .dataframe thead th {\n",
              "        text-align: right;\n",
              "    }\n",
              "</style>\n",
              "<table border=\"1\" class=\"dataframe\">\n",
              "  <thead>\n",
              "    <tr style=\"text-align: right;\">\n",
              "      <th></th>\n",
              "      <th>deaths</th>\n",
              "    </tr>\n",
              "  </thead>\n",
              "  <tbody>\n",
              "    <tr>\n",
              "      <th>2020-03-27</th>\n",
              "      <td>0.0</td>\n",
              "    </tr>\n",
              "    <tr>\n",
              "      <th>2020-03-28</th>\n",
              "      <td>9.0</td>\n",
              "    </tr>\n",
              "  </tbody>\n",
              "</table>\n",
              "</div>"
            ],
            "text/plain": [
              "            deaths\n",
              "2020-03-27     0.0\n",
              "2020-03-28     9.0"
            ]
          },
          "metadata": {
            "tags": []
          },
          "execution_count": 130
        }
      ]
    },
    {
      "cell_type": "code",
      "metadata": {
        "colab": {
          "base_uri": "https://localhost:8080/",
          "height": 617
        },
        "id": "_kKf7rfuRtKu",
        "outputId": "97b80f4e-10ae-4087-c01c-775d77d1e644"
      },
      "source": [
        "import plotly.graph_objects as go   \n",
        "import plotly.express as px\n",
        "\n",
        "fig = go.Figure()\n",
        "fig.add_trace(go.Scatter(x=rj_city.index, y=rj_city.deaths,mode='lines+markers',\n",
        "                    name='Atual'))\n",
        "\n",
        "fig.add_trace(go.Scatter(x=futuro_forecast.index, y=futuro_forecast.deaths,mode='lines+markers', name='Previsto',\n",
        "line=dict(dash='dashdot')))\n",
        "\n",
        "fig.update_layout(title=\"Previsão para os proximos 30 dias, mortes acumuladas por COVID-19 na cidade do Rio de Janeiro\", width=1200, height=600)\n",
        "fig.show()"
      ],
      "execution_count": null,
      "outputs": [
        {
          "output_type": "display_data",
          "data": {
            "text/html": [
              "<html>\n",
              "<head><meta charset=\"utf-8\" /></head>\n",
              "<body>\n",
              "    <div>\n",
              "            <script src=\"https://cdnjs.cloudflare.com/ajax/libs/mathjax/2.7.5/MathJax.js?config=TeX-AMS-MML_SVG\"></script><script type=\"text/javascript\">if (window.MathJax) {MathJax.Hub.Config({SVG: {font: \"STIX-Web\"}});}</script>\n",
              "                <script type=\"text/javascript\">window.PlotlyConfig = {MathJaxConfig: 'local'};</script>\n",
              "        <script src=\"https://cdn.plot.ly/plotly-latest.min.js\"></script>    \n",
              "            <div id=\"91b78acf-617e-4494-932c-509ca70d692e\" class=\"plotly-graph-div\" style=\"height:600px; width:1200px;\"></div>\n",
              "            <script type=\"text/javascript\">\n",
              "                \n",
              "                    window.PLOTLYENV=window.PLOTLYENV || {};\n",
              "                    \n",
              "                if (document.getElementById(\"91b78acf-617e-4494-932c-509ca70d692e\")) {\n",
              "                    Plotly.newPlot(\n",
              "                        '91b78acf-617e-4494-932c-509ca70d692e',\n",
              "                        [{\"mode\": \"lines+markers\", \"name\": \"Atual\", \"type\": \"scatter\", \"x\": [\"2020-03-27T00:00:00\", \"2020-03-28T00:00:00\", \"2020-03-29T00:00:00\", \"2020-03-30T00:00:00\", \"2020-03-31T00:00:00\", \"2020-04-01T00:00:00\", \"2020-04-02T00:00:00\", \"2020-04-03T00:00:00\", \"2020-04-04T00:00:00\", \"2020-04-05T00:00:00\", \"2020-04-06T00:00:00\", \"2020-04-07T00:00:00\", \"2020-04-08T00:00:00\", \"2020-04-09T00:00:00\", \"2020-04-10T00:00:00\", \"2020-04-11T00:00:00\", \"2020-04-12T00:00:00\", \"2020-04-13T00:00:00\", \"2020-04-14T00:00:00\", \"2020-04-15T00:00:00\", \"2020-04-16T00:00:00\", \"2020-04-17T00:00:00\", \"2020-04-18T00:00:00\", \"2020-04-19T00:00:00\", \"2020-04-20T00:00:00\", \"2020-04-21T00:00:00\", \"2020-04-22T00:00:00\", \"2020-04-23T00:00:00\", \"2020-04-24T00:00:00\", \"2020-04-25T00:00:00\", \"2020-04-26T00:00:00\", \"2020-04-27T00:00:00\", \"2020-04-28T00:00:00\", \"2020-04-29T00:00:00\", \"2020-04-30T00:00:00\", \"2020-05-01T00:00:00\", \"2020-05-02T00:00:00\", \"2020-05-03T00:00:00\", \"2020-05-04T00:00:00\", \"2020-05-05T00:00:00\", \"2020-05-06T00:00:00\", \"2020-05-07T00:00:00\", \"2020-05-08T00:00:00\", \"2020-05-09T00:00:00\", \"2020-05-10T00:00:00\", \"2020-05-11T00:00:00\", \"2020-05-12T00:00:00\", \"2020-05-13T00:00:00\", \"2020-05-14T00:00:00\", \"2020-05-15T00:00:00\", \"2020-05-16T00:00:00\", \"2020-05-17T00:00:00\", \"2020-05-18T00:00:00\", \"2020-05-19T00:00:00\", \"2020-05-20T00:00:00\", \"2020-05-21T00:00:00\", \"2020-05-22T00:00:00\", \"2020-05-23T00:00:00\", \"2020-05-24T00:00:00\", \"2020-05-25T00:00:00\", \"2020-05-26T00:00:00\", \"2020-05-27T00:00:00\", \"2020-05-28T00:00:00\", \"2020-05-29T00:00:00\", \"2020-05-30T00:00:00\", \"2020-05-31T00:00:00\", \"2020-06-01T00:00:00\", \"2020-06-02T00:00:00\", \"2020-06-03T00:00:00\", \"2020-06-04T00:00:00\", \"2020-06-05T00:00:00\", \"2020-06-06T00:00:00\", \"2020-06-07T00:00:00\", \"2020-06-08T00:00:00\", \"2020-06-09T00:00:00\", \"2020-06-10T00:00:00\", \"2020-06-11T00:00:00\", \"2020-06-12T00:00:00\", \"2020-06-13T00:00:00\", \"2020-06-14T00:00:00\", \"2020-06-15T00:00:00\", \"2020-06-16T00:00:00\", \"2020-06-17T00:00:00\", \"2020-06-18T00:00:00\", \"2020-06-19T00:00:00\", \"2020-06-20T00:00:00\", \"2020-06-21T00:00:00\", \"2020-06-22T00:00:00\", \"2020-06-23T00:00:00\", \"2020-06-24T00:00:00\", \"2020-06-25T00:00:00\", \"2020-06-26T00:00:00\", \"2020-06-27T00:00:00\", \"2020-06-28T00:00:00\", \"2020-06-29T00:00:00\", \"2020-06-30T00:00:00\", \"2020-07-01T00:00:00\", \"2020-07-02T00:00:00\", \"2020-07-03T00:00:00\", \"2020-07-04T00:00:00\", \"2020-07-05T00:00:00\", \"2020-07-06T00:00:00\", \"2020-07-07T00:00:00\", \"2020-07-08T00:00:00\", \"2020-07-09T00:00:00\", \"2020-07-10T00:00:00\", \"2020-07-11T00:00:00\", \"2020-07-12T00:00:00\", \"2020-07-13T00:00:00\", \"2020-07-14T00:00:00\", \"2020-07-15T00:00:00\", \"2020-07-16T00:00:00\", \"2020-07-17T00:00:00\", \"2020-07-18T00:00:00\", \"2020-07-19T00:00:00\", \"2020-07-20T00:00:00\", \"2020-07-21T00:00:00\", \"2020-07-22T00:00:00\", \"2020-07-23T00:00:00\", \"2020-07-24T00:00:00\", \"2020-07-25T00:00:00\", \"2020-07-26T00:00:00\", \"2020-07-27T00:00:00\", \"2020-07-28T00:00:00\", \"2020-07-29T00:00:00\", \"2020-07-30T00:00:00\", \"2020-07-31T00:00:00\", \"2020-08-01T00:00:00\", \"2020-08-02T00:00:00\", \"2020-08-03T00:00:00\", \"2020-08-04T00:00:00\", \"2020-08-05T00:00:00\", \"2020-08-06T00:00:00\", \"2020-08-07T00:00:00\", \"2020-08-08T00:00:00\", \"2020-08-09T00:00:00\", \"2020-08-10T00:00:00\", \"2020-08-11T00:00:00\", \"2020-08-12T00:00:00\", \"2020-08-13T00:00:00\", \"2020-08-14T00:00:00\", \"2020-08-15T00:00:00\", \"2020-08-16T00:00:00\", \"2020-08-17T00:00:00\", \"2020-08-18T00:00:00\", \"2020-08-19T00:00:00\", \"2020-08-20T00:00:00\", \"2020-08-21T00:00:00\", \"2020-08-22T00:00:00\", \"2020-08-23T00:00:00\", \"2020-08-24T00:00:00\", \"2020-08-25T00:00:00\", \"2020-08-26T00:00:00\", \"2020-08-27T00:00:00\", \"2020-08-28T00:00:00\", \"2020-08-29T00:00:00\", \"2020-08-30T00:00:00\", \"2020-08-31T00:00:00\", \"2020-09-01T00:00:00\", \"2020-09-02T00:00:00\", \"2020-09-03T00:00:00\", \"2020-09-04T00:00:00\", \"2020-09-05T00:00:00\", \"2020-09-06T00:00:00\", \"2020-09-07T00:00:00\", \"2020-09-08T00:00:00\", \"2020-09-09T00:00:00\", \"2020-09-10T00:00:00\", \"2020-09-11T00:00:00\", \"2020-09-12T00:00:00\", \"2020-09-13T00:00:00\", \"2020-09-14T00:00:00\", \"2020-09-15T00:00:00\", \"2020-09-16T00:00:00\", \"2020-09-17T00:00:00\", \"2020-09-18T00:00:00\", \"2020-09-19T00:00:00\", \"2020-09-20T00:00:00\", \"2020-09-21T00:00:00\", \"2020-09-22T00:00:00\", \"2020-09-23T00:00:00\", \"2020-09-24T00:00:00\", \"2020-09-25T00:00:00\", \"2020-09-26T00:00:00\", \"2020-09-27T00:00:00\", \"2020-09-28T00:00:00\", \"2020-09-29T00:00:00\", \"2020-09-30T00:00:00\", \"2020-10-01T00:00:00\", \"2020-10-02T00:00:00\", \"2020-10-03T00:00:00\", \"2020-10-04T00:00:00\", \"2020-10-05T00:00:00\", \"2020-10-06T00:00:00\", \"2020-10-07T00:00:00\", \"2020-10-08T00:00:00\", \"2020-10-09T00:00:00\", \"2020-10-10T00:00:00\", \"2020-10-11T00:00:00\", \"2020-10-12T00:00:00\", \"2020-10-13T00:00:00\", \"2020-10-14T00:00:00\", \"2020-10-15T00:00:00\", \"2020-10-16T00:00:00\", \"2020-10-17T00:00:00\", \"2020-10-18T00:00:00\", \"2020-10-19T00:00:00\", \"2020-10-20T00:00:00\", \"2020-10-21T00:00:00\", \"2020-10-22T00:00:00\", \"2020-10-23T00:00:00\", \"2020-10-24T00:00:00\", \"2020-10-25T00:00:00\", \"2020-10-26T00:00:00\", \"2020-10-27T00:00:00\", \"2020-10-28T00:00:00\", \"2020-10-29T00:00:00\", \"2020-10-30T00:00:00\", \"2020-10-31T00:00:00\", \"2020-11-01T00:00:00\", \"2020-11-02T00:00:00\", \"2020-11-03T00:00:00\", \"2020-11-04T00:00:00\", \"2020-11-05T00:00:00\", \"2020-11-06T00:00:00\", \"2020-11-07T00:00:00\", \"2020-11-08T00:00:00\", \"2020-11-09T00:00:00\", \"2020-11-10T00:00:00\", \"2020-11-11T00:00:00\", \"2020-11-12T00:00:00\", \"2020-11-13T00:00:00\", \"2020-11-14T00:00:00\", \"2020-11-15T00:00:00\", \"2020-11-16T00:00:00\", \"2020-11-17T00:00:00\", \"2020-11-18T00:00:00\", \"2020-11-19T00:00:00\", \"2020-11-20T00:00:00\", \"2020-11-21T00:00:00\", \"2020-11-22T00:00:00\", \"2020-11-23T00:00:00\", \"2020-11-24T00:00:00\", \"2020-11-25T00:00:00\"], \"y\": [0, 9, 13, 13, 18, 20, 31, 36, 38, 42, 47, 59, 73, 82, 92, 98, 106, 115, 140, 167, 195, 219, 237, 245, 257, 283, 303, 322, 347, 367, 382, 404, 456, 496, 535, 574, 603, 631, 670, 713, 764, 919, 1002, 1092, 1126, 1172, 1279, 1363, 1509, 1631, 1751, 1841, 1960, 2135, 2249, 2376, 2520, 2702, 2755, 2831, 2978, 3135, 3293, 3430, 3525, 3578, 3671, 3828, 4055, 4231, 4309, 4401, 4462, 4516, 4599, 4716, 4850, 4877, 4993, 5043, 5090, 5239, 5343, 5508, 5632, 5791, 5832, 5875, 6000, 6087, 6161, 6264, 6366, 6393, 6417, 6550, 6618, 6689, 6791, 6869, 6898, 6924, 7055, 7101, 7178, 7254, 7302, 7310, 7355, 7432, 7500, 7550, 7621, 7621, 7703, 7733, 7796, 7887, 7913, 7941, 8004, 8023, 8053, 8124, 8220, 8270, 8310, 8344, 8358, 8371, 8419, 8499, 8540, 8596, 8606, 8612, 8622, 8665, 8710, 8766, 8799, 8813, 8826, 8830, 8931, 9048, 9127, 9175, 9206, 9231, 9316, 9404, 9468, 9566, 9566, 9628, 9634, 9663, 9737, 9778, 9813, 9853, 9880, 9902, 9924, 9957, 10027, 10074, 10053, 10113, 10116, 10119, 10233, 10330, 10391, 10449, 10470, 10495, 10505, 10576, 10660, 10730, 10793, 10834, 10849, 10856, 10926, 10969, 11024, 11077, 11101, 11107, 11118, 11197, 11240, 11313, 11378, 11401, 11406, 11406, 11426, 11487, 11537, 11582, 11610, 11633, 11637, 11672, 11734, 11777, 11834, 11870, 11893, 11899, 11952, 12009, 12064, 12119, 12125, 12129, 12140, 12148, 12219, 12268, 12268, 12312, 12312, 12312, 12312, 12322, 12419, 12419, 12506, 12510, 12512, 12653, 12793, 12844, 12923, 12935, 12935, 12979, 13064, 13115]}, {\"line\": {\"dash\": \"dashdot\"}, \"mode\": \"lines+markers\", \"name\": \"Previsto\", \"type\": \"scatter\", \"x\": [\"2020-11-27T00:00:00\", \"2020-11-28T00:00:00\", \"2020-11-29T00:00:00\", \"2020-11-30T00:00:00\", \"2020-12-01T00:00:00\", \"2020-12-02T00:00:00\", \"2020-12-03T00:00:00\", \"2020-12-04T00:00:00\", \"2020-12-05T00:00:00\", \"2020-12-06T00:00:00\", \"2020-12-07T00:00:00\", \"2020-12-08T00:00:00\", \"2020-12-09T00:00:00\", \"2020-12-10T00:00:00\", \"2020-12-11T00:00:00\", \"2020-12-12T00:00:00\", \"2020-12-13T00:00:00\", \"2020-12-14T00:00:00\", \"2020-12-15T00:00:00\", \"2020-12-16T00:00:00\", \"2020-12-17T00:00:00\", \"2020-12-18T00:00:00\", \"2020-12-19T00:00:00\", \"2020-12-20T00:00:00\", \"2020-12-21T00:00:00\", \"2020-12-22T00:00:00\", \"2020-12-23T00:00:00\", \"2020-12-24T00:00:00\", \"2020-12-25T00:00:00\", \"2020-12-26T00:00:00\"], \"y\": [13177.0, 13229.0, 13267.0, 13279.0, 13304.0, 13375.0, 13437.0, 13501.0, 13549.0, 13591.0, 13606.0, 13628.0, 13696.0, 13760.0, 13825.0, 13872.0, 13915.0, 13931.0, 13951.0, 14019.0, 14084.0, 14148.0, 14195.0, 14239.0, 14255.0, 14276.0, 14344.0, 14408.0, 14473.0, 14520.0]}],\n",
              "                        {\"height\": 600, \"template\": {\"data\": {\"bar\": [{\"error_x\": {\"color\": \"#2a3f5f\"}, \"error_y\": {\"color\": \"#2a3f5f\"}, \"marker\": {\"line\": {\"color\": \"#E5ECF6\", \"width\": 0.5}}, \"type\": \"bar\"}], \"barpolar\": [{\"marker\": {\"line\": {\"color\": \"#E5ECF6\", \"width\": 0.5}}, \"type\": \"barpolar\"}], \"carpet\": [{\"aaxis\": {\"endlinecolor\": \"#2a3f5f\", \"gridcolor\": \"white\", \"linecolor\": \"white\", \"minorgridcolor\": \"white\", \"startlinecolor\": \"#2a3f5f\"}, \"baxis\": {\"endlinecolor\": \"#2a3f5f\", \"gridcolor\": \"white\", \"linecolor\": \"white\", \"minorgridcolor\": \"white\", \"startlinecolor\": \"#2a3f5f\"}, \"type\": \"carpet\"}], \"choropleth\": [{\"colorbar\": {\"outlinewidth\": 0, \"ticks\": \"\"}, \"type\": \"choropleth\"}], \"contour\": [{\"colorbar\": {\"outlinewidth\": 0, \"ticks\": \"\"}, \"colorscale\": [[0.0, \"#0d0887\"], [0.1111111111111111, \"#46039f\"], [0.2222222222222222, \"#7201a8\"], [0.3333333333333333, \"#9c179e\"], [0.4444444444444444, \"#bd3786\"], [0.5555555555555556, \"#d8576b\"], [0.6666666666666666, \"#ed7953\"], [0.7777777777777778, \"#fb9f3a\"], [0.8888888888888888, \"#fdca26\"], [1.0, \"#f0f921\"]], \"type\": \"contour\"}], \"contourcarpet\": [{\"colorbar\": {\"outlinewidth\": 0, \"ticks\": \"\"}, \"type\": \"contourcarpet\"}], \"heatmap\": [{\"colorbar\": {\"outlinewidth\": 0, \"ticks\": \"\"}, \"colorscale\": [[0.0, \"#0d0887\"], [0.1111111111111111, \"#46039f\"], [0.2222222222222222, \"#7201a8\"], [0.3333333333333333, \"#9c179e\"], [0.4444444444444444, \"#bd3786\"], [0.5555555555555556, \"#d8576b\"], [0.6666666666666666, \"#ed7953\"], [0.7777777777777778, \"#fb9f3a\"], [0.8888888888888888, \"#fdca26\"], [1.0, \"#f0f921\"]], \"type\": \"heatmap\"}], \"heatmapgl\": [{\"colorbar\": {\"outlinewidth\": 0, \"ticks\": \"\"}, \"colorscale\": [[0.0, \"#0d0887\"], [0.1111111111111111, \"#46039f\"], [0.2222222222222222, \"#7201a8\"], [0.3333333333333333, \"#9c179e\"], [0.4444444444444444, \"#bd3786\"], [0.5555555555555556, \"#d8576b\"], [0.6666666666666666, \"#ed7953\"], [0.7777777777777778, \"#fb9f3a\"], [0.8888888888888888, \"#fdca26\"], [1.0, \"#f0f921\"]], \"type\": \"heatmapgl\"}], \"histogram\": [{\"marker\": {\"colorbar\": {\"outlinewidth\": 0, \"ticks\": \"\"}}, \"type\": \"histogram\"}], \"histogram2d\": [{\"colorbar\": {\"outlinewidth\": 0, \"ticks\": \"\"}, \"colorscale\": [[0.0, \"#0d0887\"], [0.1111111111111111, \"#46039f\"], [0.2222222222222222, \"#7201a8\"], [0.3333333333333333, \"#9c179e\"], [0.4444444444444444, \"#bd3786\"], [0.5555555555555556, \"#d8576b\"], [0.6666666666666666, \"#ed7953\"], [0.7777777777777778, \"#fb9f3a\"], [0.8888888888888888, \"#fdca26\"], [1.0, \"#f0f921\"]], \"type\": \"histogram2d\"}], \"histogram2dcontour\": [{\"colorbar\": {\"outlinewidth\": 0, \"ticks\": \"\"}, \"colorscale\": [[0.0, \"#0d0887\"], [0.1111111111111111, \"#46039f\"], [0.2222222222222222, \"#7201a8\"], [0.3333333333333333, \"#9c179e\"], [0.4444444444444444, \"#bd3786\"], [0.5555555555555556, \"#d8576b\"], [0.6666666666666666, \"#ed7953\"], [0.7777777777777778, \"#fb9f3a\"], [0.8888888888888888, \"#fdca26\"], [1.0, \"#f0f921\"]], \"type\": \"histogram2dcontour\"}], \"mesh3d\": [{\"colorbar\": {\"outlinewidth\": 0, \"ticks\": \"\"}, \"type\": \"mesh3d\"}], \"parcoords\": [{\"line\": {\"colorbar\": {\"outlinewidth\": 0, \"ticks\": \"\"}}, \"type\": \"parcoords\"}], \"pie\": [{\"automargin\": true, \"type\": \"pie\"}], \"scatter\": [{\"marker\": {\"colorbar\": {\"outlinewidth\": 0, \"ticks\": \"\"}}, \"type\": \"scatter\"}], \"scatter3d\": [{\"line\": {\"colorbar\": {\"outlinewidth\": 0, \"ticks\": \"\"}}, \"marker\": {\"colorbar\": {\"outlinewidth\": 0, \"ticks\": \"\"}}, \"type\": \"scatter3d\"}], \"scattercarpet\": [{\"marker\": {\"colorbar\": {\"outlinewidth\": 0, \"ticks\": \"\"}}, \"type\": \"scattercarpet\"}], \"scattergeo\": [{\"marker\": {\"colorbar\": {\"outlinewidth\": 0, \"ticks\": \"\"}}, \"type\": \"scattergeo\"}], \"scattergl\": [{\"marker\": {\"colorbar\": {\"outlinewidth\": 0, \"ticks\": \"\"}}, \"type\": \"scattergl\"}], \"scattermapbox\": [{\"marker\": {\"colorbar\": {\"outlinewidth\": 0, \"ticks\": \"\"}}, \"type\": \"scattermapbox\"}], \"scatterpolar\": [{\"marker\": {\"colorbar\": {\"outlinewidth\": 0, \"ticks\": \"\"}}, \"type\": \"scatterpolar\"}], \"scatterpolargl\": [{\"marker\": {\"colorbar\": {\"outlinewidth\": 0, \"ticks\": \"\"}}, \"type\": \"scatterpolargl\"}], \"scatterternary\": [{\"marker\": {\"colorbar\": {\"outlinewidth\": 0, \"ticks\": \"\"}}, \"type\": \"scatterternary\"}], \"surface\": [{\"colorbar\": {\"outlinewidth\": 0, \"ticks\": \"\"}, \"colorscale\": [[0.0, \"#0d0887\"], [0.1111111111111111, \"#46039f\"], [0.2222222222222222, \"#7201a8\"], [0.3333333333333333, \"#9c179e\"], [0.4444444444444444, \"#bd3786\"], [0.5555555555555556, \"#d8576b\"], [0.6666666666666666, \"#ed7953\"], [0.7777777777777778, \"#fb9f3a\"], [0.8888888888888888, \"#fdca26\"], [1.0, \"#f0f921\"]], \"type\": \"surface\"}], \"table\": [{\"cells\": {\"fill\": {\"color\": \"#EBF0F8\"}, \"line\": {\"color\": \"white\"}}, \"header\": {\"fill\": {\"color\": \"#C8D4E3\"}, \"line\": {\"color\": \"white\"}}, \"type\": \"table\"}]}, \"layout\": {\"annotationdefaults\": {\"arrowcolor\": \"#2a3f5f\", \"arrowhead\": 0, \"arrowwidth\": 1}, \"coloraxis\": {\"colorbar\": {\"outlinewidth\": 0, \"ticks\": \"\"}}, \"colorscale\": {\"diverging\": [[0, \"#8e0152\"], [0.1, \"#c51b7d\"], [0.2, \"#de77ae\"], [0.3, \"#f1b6da\"], [0.4, \"#fde0ef\"], [0.5, \"#f7f7f7\"], [0.6, \"#e6f5d0\"], [0.7, \"#b8e186\"], [0.8, \"#7fbc41\"], [0.9, \"#4d9221\"], [1, \"#276419\"]], \"sequential\": [[0.0, \"#0d0887\"], [0.1111111111111111, \"#46039f\"], [0.2222222222222222, \"#7201a8\"], [0.3333333333333333, \"#9c179e\"], [0.4444444444444444, \"#bd3786\"], [0.5555555555555556, \"#d8576b\"], [0.6666666666666666, \"#ed7953\"], [0.7777777777777778, \"#fb9f3a\"], [0.8888888888888888, \"#fdca26\"], [1.0, \"#f0f921\"]], \"sequentialminus\": [[0.0, \"#0d0887\"], [0.1111111111111111, \"#46039f\"], [0.2222222222222222, \"#7201a8\"], [0.3333333333333333, \"#9c179e\"], [0.4444444444444444, \"#bd3786\"], [0.5555555555555556, \"#d8576b\"], [0.6666666666666666, \"#ed7953\"], [0.7777777777777778, \"#fb9f3a\"], [0.8888888888888888, \"#fdca26\"], [1.0, \"#f0f921\"]]}, \"colorway\": [\"#636efa\", \"#EF553B\", \"#00cc96\", \"#ab63fa\", \"#FFA15A\", \"#19d3f3\", \"#FF6692\", \"#B6E880\", \"#FF97FF\", \"#FECB52\"], \"font\": {\"color\": \"#2a3f5f\"}, \"geo\": {\"bgcolor\": \"white\", \"lakecolor\": \"white\", \"landcolor\": \"#E5ECF6\", \"showlakes\": true, \"showland\": true, \"subunitcolor\": \"white\"}, \"hoverlabel\": {\"align\": \"left\"}, \"hovermode\": \"closest\", \"mapbox\": {\"style\": \"light\"}, \"paper_bgcolor\": \"white\", \"plot_bgcolor\": \"#E5ECF6\", \"polar\": {\"angularaxis\": {\"gridcolor\": \"white\", \"linecolor\": \"white\", \"ticks\": \"\"}, \"bgcolor\": \"#E5ECF6\", \"radialaxis\": {\"gridcolor\": \"white\", \"linecolor\": \"white\", \"ticks\": \"\"}}, \"scene\": {\"xaxis\": {\"backgroundcolor\": \"#E5ECF6\", \"gridcolor\": \"white\", \"gridwidth\": 2, \"linecolor\": \"white\", \"showbackground\": true, \"ticks\": \"\", \"zerolinecolor\": \"white\"}, \"yaxis\": {\"backgroundcolor\": \"#E5ECF6\", \"gridcolor\": \"white\", \"gridwidth\": 2, \"linecolor\": \"white\", \"showbackground\": true, \"ticks\": \"\", \"zerolinecolor\": \"white\"}, \"zaxis\": {\"backgroundcolor\": \"#E5ECF6\", \"gridcolor\": \"white\", \"gridwidth\": 2, \"linecolor\": \"white\", \"showbackground\": true, \"ticks\": \"\", \"zerolinecolor\": \"white\"}}, \"shapedefaults\": {\"line\": {\"color\": \"#2a3f5f\"}}, \"ternary\": {\"aaxis\": {\"gridcolor\": \"white\", \"linecolor\": \"white\", \"ticks\": \"\"}, \"baxis\": {\"gridcolor\": \"white\", \"linecolor\": \"white\", \"ticks\": \"\"}, \"bgcolor\": \"#E5ECF6\", \"caxis\": {\"gridcolor\": \"white\", \"linecolor\": \"white\", \"ticks\": \"\"}}, \"title\": {\"x\": 0.05}, \"xaxis\": {\"automargin\": true, \"gridcolor\": \"white\", \"linecolor\": \"white\", \"ticks\": \"\", \"title\": {\"standoff\": 15}, \"zerolinecolor\": \"white\", \"zerolinewidth\": 2}, \"yaxis\": {\"automargin\": true, \"gridcolor\": \"white\", \"linecolor\": \"white\", \"ticks\": \"\", \"title\": {\"standoff\": 15}, \"zerolinecolor\": \"white\", \"zerolinewidth\": 2}}}, \"title\": {\"text\": \"Previs\\u00e3o para os proximos 30 dias, mortes acumuladas por COVID-19 na cidade do Rio de Janeiro\"}, \"width\": 1200},\n",
              "                        {\"responsive\": true}\n",
              "                    ).then(function(){\n",
              "                            \n",
              "var gd = document.getElementById('91b78acf-617e-4494-932c-509ca70d692e');\n",
              "var x = new MutationObserver(function (mutations, observer) {{\n",
              "        var display = window.getComputedStyle(gd).display;\n",
              "        if (!display || display === 'none') {{\n",
              "            console.log([gd, 'removed!']);\n",
              "            Plotly.purge(gd);\n",
              "            observer.disconnect();\n",
              "        }}\n",
              "}});\n",
              "\n",
              "// Listen for the removal of the full notebook cells\n",
              "var notebookContainer = gd.closest('#notebook-container');\n",
              "if (notebookContainer) {{\n",
              "    x.observe(notebookContainer, {childList: true});\n",
              "}}\n",
              "\n",
              "// Listen for the clearing of the current output cell\n",
              "var outputEl = gd.closest('.output');\n",
              "if (outputEl) {{\n",
              "    x.observe(outputEl, {childList: true});\n",
              "}}\n",
              "\n",
              "                        })\n",
              "                };\n",
              "                \n",
              "            </script>\n",
              "        </div>\n",
              "</body>\n",
              "</html>"
            ]
          },
          "metadata": {
            "tags": []
          }
        }
      ]
    },
    {
      "cell_type": "code",
      "metadata": {
        "colab": {
          "base_uri": "https://localhost:8080/"
        },
        "id": "j9eC3zDPR8Or",
        "outputId": "bf97fe25-ec0e-4e59-c61b-8b301f51dd95"
      },
      "source": [
        "dataatual = datetime.datetime.today()\n",
        "dataatual = datetime.datetime.today() - datetime.timedelta(days=15)\n",
        "lista_datas = [dataatual + datetime.timedelta(days=x) for x in range(15)]\n",
        "lista_datas = [pd.datetime.strftime(i,'%Y-%m-%d') for i in lista_datas]"
      ],
      "execution_count": null,
      "outputs": [
        {
          "output_type": "stream",
          "text": [
            "/usr/local/lib/python3.6/dist-packages/ipykernel_launcher.py:4: FutureWarning:\n",
            "\n",
            "The pandas.datetime class is deprecated and will be removed from pandas in a future version. Import from datetime instead.\n",
            "\n"
          ],
          "name": "stderr"
        }
      ]
    },
    {
      "cell_type": "code",
      "metadata": {
        "colab": {
          "base_uri": "https://localhost:8080/"
        },
        "id": "bTPXCg_FR9mx",
        "outputId": "3659483f-eb6d-483b-eda1-51f6640cb7b8"
      },
      "source": [
        "lista_datas"
      ],
      "execution_count": null,
      "outputs": [
        {
          "output_type": "execute_result",
          "data": {
            "text/plain": [
              "['2020-11-13',\n",
              " '2020-11-14',\n",
              " '2020-11-15',\n",
              " '2020-11-16',\n",
              " '2020-11-17',\n",
              " '2020-11-18',\n",
              " '2020-11-19',\n",
              " '2020-11-20',\n",
              " '2020-11-21',\n",
              " '2020-11-22',\n",
              " '2020-11-23',\n",
              " '2020-11-24',\n",
              " '2020-11-25',\n",
              " '2020-11-26',\n",
              " '2020-11-27']"
            ]
          },
          "metadata": {
            "tags": []
          },
          "execution_count": 134
        }
      ]
    },
    {
      "cell_type": "code",
      "metadata": {
        "id": "Ou4E6Qi2R_Hk"
      },
      "source": [
        "df_validacao = rj_city.iloc[0:-14]"
      ],
      "execution_count": null,
      "outputs": []
    },
    {
      "cell_type": "code",
      "metadata": {
        "colab": {
          "base_uri": "https://localhost:8080/",
          "height": 142
        },
        "id": "37p3OLG2SAWC",
        "outputId": "a8cb5263-a655-4351-e338-7615931baa84"
      },
      "source": [
        "df_validacao.iloc[[0,-1]]"
      ],
      "execution_count": null,
      "outputs": [
        {
          "output_type": "execute_result",
          "data": {
            "text/html": [
              "<div>\n",
              "<style scoped>\n",
              "    .dataframe tbody tr th:only-of-type {\n",
              "        vertical-align: middle;\n",
              "    }\n",
              "\n",
              "    .dataframe tbody tr th {\n",
              "        vertical-align: top;\n",
              "    }\n",
              "\n",
              "    .dataframe thead th {\n",
              "        text-align: right;\n",
              "    }\n",
              "</style>\n",
              "<table border=\"1\" class=\"dataframe\">\n",
              "  <thead>\n",
              "    <tr style=\"text-align: right;\">\n",
              "      <th></th>\n",
              "      <th>deaths</th>\n",
              "    </tr>\n",
              "    <tr>\n",
              "      <th>date</th>\n",
              "      <th></th>\n",
              "    </tr>\n",
              "  </thead>\n",
              "  <tbody>\n",
              "    <tr>\n",
              "      <th>2020-03-27</th>\n",
              "      <td>0</td>\n",
              "    </tr>\n",
              "    <tr>\n",
              "      <th>2020-11-11</th>\n",
              "      <td>12322</td>\n",
              "    </tr>\n",
              "  </tbody>\n",
              "</table>\n",
              "</div>"
            ],
            "text/plain": [
              "            deaths\n",
              "date              \n",
              "2020-03-27       0\n",
              "2020-11-11   12322"
            ]
          },
          "metadata": {
            "tags": []
          },
          "execution_count": 136
        }
      ]
    },
    {
      "cell_type": "code",
      "metadata": {
        "colab": {
          "base_uri": "https://localhost:8080/"
        },
        "id": "9PXtdUssSB-z",
        "outputId": "9725fd93-1d11-4098-901c-35753a0d3eb9"
      },
      "source": [
        "from pmdarima.arima import auto_arima\n",
        "valid_model = auto_arima(df_validacao, start_p=0, start_d=0 ,start_q=0,max_p=8, max_d=8,max_q=8, m=7, start_P=0, seasonal=False, trace=True, error_action='ignore',suppress_warnings=True, stepwise=False)"
      ],
      "execution_count": null,
      "outputs": [
        {
          "output_type": "stream",
          "text": [
            "/usr/local/lib/python3.6/dist-packages/pmdarima/arima/_validation.py:60: UserWarning:\n",
            "\n",
            "m (7) set for non-seasonal fit. Setting to 0\n",
            "\n"
          ],
          "name": "stderr"
        },
        {
          "output_type": "stream",
          "text": [
            " ARIMA(0,2,0)(0,0,0)[0] intercept   : AIC=2329.670, Time=0.03 sec\n",
            " ARIMA(0,2,1)(0,0,0)[0] intercept   : AIC=2261.072, Time=0.10 sec\n",
            " ARIMA(0,2,2)(0,0,0)[0] intercept   : AIC=2252.029, Time=0.31 sec\n",
            " ARIMA(0,2,3)(0,0,0)[0] intercept   : AIC=2253.536, Time=0.23 sec\n",
            " ARIMA(0,2,4)(0,0,0)[0] intercept   : AIC=2250.924, Time=0.70 sec\n",
            " ARIMA(0,2,5)(0,0,0)[0] intercept   : AIC=2240.630, Time=0.48 sec\n",
            " ARIMA(1,2,0)(0,0,0)[0] intercept   : AIC=2307.894, Time=0.09 sec\n",
            " ARIMA(1,2,1)(0,0,0)[0] intercept   : AIC=2253.710, Time=0.15 sec\n",
            " ARIMA(1,2,2)(0,0,0)[0] intercept   : AIC=2252.679, Time=0.37 sec\n",
            " ARIMA(1,2,3)(0,0,0)[0] intercept   : AIC=2246.053, Time=0.44 sec\n",
            " ARIMA(1,2,4)(0,0,0)[0] intercept   : AIC=2254.841, Time=1.15 sec\n",
            " ARIMA(2,2,0)(0,0,0)[0] intercept   : AIC=2294.781, Time=0.11 sec\n",
            " ARIMA(2,2,1)(0,0,0)[0] intercept   : AIC=2252.738, Time=0.20 sec\n",
            " ARIMA(2,2,2)(0,0,0)[0] intercept   : AIC=2253.030, Time=0.33 sec\n",
            " ARIMA(2,2,3)(0,0,0)[0] intercept   : AIC=2199.610, Time=0.93 sec\n",
            " ARIMA(3,2,0)(0,0,0)[0] intercept   : AIC=2292.503, Time=0.16 sec\n",
            " ARIMA(3,2,1)(0,0,0)[0] intercept   : AIC=2251.139, Time=0.35 sec\n",
            " ARIMA(3,2,2)(0,0,0)[0] intercept   : AIC=2254.378, Time=0.40 sec\n",
            " ARIMA(4,2,0)(0,0,0)[0] intercept   : AIC=2272.932, Time=0.23 sec\n",
            " ARIMA(4,2,1)(0,0,0)[0] intercept   : AIC=2231.595, Time=0.46 sec\n",
            " ARIMA(5,2,0)(0,0,0)[0] intercept   : AIC=2242.445, Time=0.33 sec\n",
            "Total fit time: 7.575 seconds\n"
          ],
          "name": "stdout"
        }
      ]
    },
    {
      "cell_type": "code",
      "metadata": {
        "colab": {
          "base_uri": "https://localhost:8080/"
        },
        "id": "IPqF-9G2SGEc",
        "outputId": "ec3838b9-bd5b-4d1a-92d6-5b16a198ebda"
      },
      "source": [
        "print(f\"Resultado AIC: {valid_model.aic()}\")\n",
        "print(f\"Resultado melhores parametros (p,d,q): {valid_model.order}\")"
      ],
      "execution_count": null,
      "outputs": [
        {
          "output_type": "stream",
          "text": [
            "Resultado AIC: 2199.6097628777798\n",
            "Resultado melhores parametros (p,d,q): (2, 2, 3)\n"
          ],
          "name": "stdout"
        }
      ]
    },
    {
      "cell_type": "code",
      "metadata": {
        "colab": {
          "base_uri": "https://localhost:8080/",
          "height": 142
        },
        "id": "LUu6-vVTSIOG",
        "outputId": "1b94ffcb-8a43-4f98-f884-748cbc4bac01"
      },
      "source": [
        "valid_forecast = valid_model.predict(n_periods=15)\n",
        "valid_forecast = pd.DataFrame(valid_forecast,index = lista_datas,columns=[\"deaths\"])\n",
        "valid_forecast.index.name = 'data'\n",
        "valid_forecast.index = pd.to_datetime(valid_forecast.index)\n",
        "valid_forecast.deaths = round(valid_forecast.deaths,0)\n",
        "valid_forecast.head(2)"
      ],
      "execution_count": null,
      "outputs": [
        {
          "output_type": "execute_result",
          "data": {
            "text/html": [
              "<div>\n",
              "<style scoped>\n",
              "    .dataframe tbody tr th:only-of-type {\n",
              "        vertical-align: middle;\n",
              "    }\n",
              "\n",
              "    .dataframe tbody tr th {\n",
              "        vertical-align: top;\n",
              "    }\n",
              "\n",
              "    .dataframe thead th {\n",
              "        text-align: right;\n",
              "    }\n",
              "</style>\n",
              "<table border=\"1\" class=\"dataframe\">\n",
              "  <thead>\n",
              "    <tr style=\"text-align: right;\">\n",
              "      <th></th>\n",
              "      <th>deaths</th>\n",
              "    </tr>\n",
              "    <tr>\n",
              "      <th>data</th>\n",
              "      <th></th>\n",
              "    </tr>\n",
              "  </thead>\n",
              "  <tbody>\n",
              "    <tr>\n",
              "      <th>2020-11-13</th>\n",
              "      <td>12356.0</td>\n",
              "    </tr>\n",
              "    <tr>\n",
              "      <th>2020-11-14</th>\n",
              "      <td>12374.0</td>\n",
              "    </tr>\n",
              "  </tbody>\n",
              "</table>\n",
              "</div>"
            ],
            "text/plain": [
              "             deaths\n",
              "data               \n",
              "2020-11-13  12356.0\n",
              "2020-11-14  12374.0"
            ]
          },
          "metadata": {
            "tags": []
          },
          "execution_count": 143
        }
      ]
    },
    {
      "cell_type": "code",
      "metadata": {
        "colab": {
          "base_uri": "https://localhost:8080/",
          "height": 617
        },
        "id": "IfxaiBVySLeQ",
        "outputId": "33c64b4f-3dbd-4347-9e39-c5e005d69ed5"
      },
      "source": [
        "\n",
        "import plotly.graph_objects as go   \n",
        "import plotly.express as px\n",
        "\n",
        "fig = go.Figure()\n",
        "fig.add_trace(go.Scatter(x=rj_city.index, y=rj_city.deaths,mode='lines+markers',\n",
        "                    name='Atual'))\n",
        "\n",
        "fig.add_trace(go.Scatter(x=valid_forecast.index, y=valid_forecast.deaths,mode='lines+markers', name='Validação 15 dias',\n",
        "line=dict(dash='dashdot')))\n",
        "\n",
        "fig.add_trace(go.Scatter(x=futuro_forecast.index, y=futuro_forecast.deaths,mode='lines+markers', name='Previsão para 30 dias',\n",
        "line=dict(dash='dashdot')))\n",
        "\n",
        "fig.update_layout(title=\"Validando eficiência do modelo com dados ja existentes.\", width=1200, height=600)\n",
        "fig.show()"
      ],
      "execution_count": null,
      "outputs": [
        {
          "output_type": "display_data",
          "data": {
            "text/html": [
              "<html>\n",
              "<head><meta charset=\"utf-8\" /></head>\n",
              "<body>\n",
              "    <div>\n",
              "            <script src=\"https://cdnjs.cloudflare.com/ajax/libs/mathjax/2.7.5/MathJax.js?config=TeX-AMS-MML_SVG\"></script><script type=\"text/javascript\">if (window.MathJax) {MathJax.Hub.Config({SVG: {font: \"STIX-Web\"}});}</script>\n",
              "                <script type=\"text/javascript\">window.PlotlyConfig = {MathJaxConfig: 'local'};</script>\n",
              "        <script src=\"https://cdn.plot.ly/plotly-latest.min.js\"></script>    \n",
              "            <div id=\"fad2ba46-d1dc-43cb-a034-e58fcc8ad8a1\" class=\"plotly-graph-div\" style=\"height:600px; width:1200px;\"></div>\n",
              "            <script type=\"text/javascript\">\n",
              "                \n",
              "                    window.PLOTLYENV=window.PLOTLYENV || {};\n",
              "                    \n",
              "                if (document.getElementById(\"fad2ba46-d1dc-43cb-a034-e58fcc8ad8a1\")) {\n",
              "                    Plotly.newPlot(\n",
              "                        'fad2ba46-d1dc-43cb-a034-e58fcc8ad8a1',\n",
              "                        [{\"mode\": \"lines+markers\", \"name\": \"Atual\", \"type\": \"scatter\", \"x\": [\"2020-03-27T00:00:00\", \"2020-03-28T00:00:00\", \"2020-03-29T00:00:00\", \"2020-03-30T00:00:00\", \"2020-03-31T00:00:00\", \"2020-04-01T00:00:00\", \"2020-04-02T00:00:00\", \"2020-04-03T00:00:00\", \"2020-04-04T00:00:00\", \"2020-04-05T00:00:00\", \"2020-04-06T00:00:00\", \"2020-04-07T00:00:00\", \"2020-04-08T00:00:00\", \"2020-04-09T00:00:00\", \"2020-04-10T00:00:00\", \"2020-04-11T00:00:00\", \"2020-04-12T00:00:00\", \"2020-04-13T00:00:00\", \"2020-04-14T00:00:00\", \"2020-04-15T00:00:00\", \"2020-04-16T00:00:00\", \"2020-04-17T00:00:00\", \"2020-04-18T00:00:00\", \"2020-04-19T00:00:00\", \"2020-04-20T00:00:00\", \"2020-04-21T00:00:00\", \"2020-04-22T00:00:00\", \"2020-04-23T00:00:00\", \"2020-04-24T00:00:00\", \"2020-04-25T00:00:00\", \"2020-04-26T00:00:00\", \"2020-04-27T00:00:00\", \"2020-04-28T00:00:00\", \"2020-04-29T00:00:00\", \"2020-04-30T00:00:00\", \"2020-05-01T00:00:00\", \"2020-05-02T00:00:00\", \"2020-05-03T00:00:00\", \"2020-05-04T00:00:00\", \"2020-05-05T00:00:00\", \"2020-05-06T00:00:00\", \"2020-05-07T00:00:00\", \"2020-05-08T00:00:00\", \"2020-05-09T00:00:00\", \"2020-05-10T00:00:00\", \"2020-05-11T00:00:00\", \"2020-05-12T00:00:00\", \"2020-05-13T00:00:00\", \"2020-05-14T00:00:00\", \"2020-05-15T00:00:00\", \"2020-05-16T00:00:00\", \"2020-05-17T00:00:00\", \"2020-05-18T00:00:00\", \"2020-05-19T00:00:00\", \"2020-05-20T00:00:00\", \"2020-05-21T00:00:00\", \"2020-05-22T00:00:00\", \"2020-05-23T00:00:00\", \"2020-05-24T00:00:00\", \"2020-05-25T00:00:00\", \"2020-05-26T00:00:00\", \"2020-05-27T00:00:00\", \"2020-05-28T00:00:00\", \"2020-05-29T00:00:00\", \"2020-05-30T00:00:00\", \"2020-05-31T00:00:00\", \"2020-06-01T00:00:00\", \"2020-06-02T00:00:00\", \"2020-06-03T00:00:00\", \"2020-06-04T00:00:00\", \"2020-06-05T00:00:00\", \"2020-06-06T00:00:00\", \"2020-06-07T00:00:00\", \"2020-06-08T00:00:00\", \"2020-06-09T00:00:00\", \"2020-06-10T00:00:00\", \"2020-06-11T00:00:00\", \"2020-06-12T00:00:00\", \"2020-06-13T00:00:00\", \"2020-06-14T00:00:00\", \"2020-06-15T00:00:00\", \"2020-06-16T00:00:00\", \"2020-06-17T00:00:00\", \"2020-06-18T00:00:00\", \"2020-06-19T00:00:00\", \"2020-06-20T00:00:00\", \"2020-06-21T00:00:00\", \"2020-06-22T00:00:00\", \"2020-06-23T00:00:00\", \"2020-06-24T00:00:00\", \"2020-06-25T00:00:00\", \"2020-06-26T00:00:00\", \"2020-06-27T00:00:00\", \"2020-06-28T00:00:00\", \"2020-06-29T00:00:00\", \"2020-06-30T00:00:00\", \"2020-07-01T00:00:00\", \"2020-07-02T00:00:00\", \"2020-07-03T00:00:00\", \"2020-07-04T00:00:00\", \"2020-07-05T00:00:00\", \"2020-07-06T00:00:00\", \"2020-07-07T00:00:00\", \"2020-07-08T00:00:00\", \"2020-07-09T00:00:00\", \"2020-07-10T00:00:00\", \"2020-07-11T00:00:00\", \"2020-07-12T00:00:00\", \"2020-07-13T00:00:00\", \"2020-07-14T00:00:00\", \"2020-07-15T00:00:00\", \"2020-07-16T00:00:00\", \"2020-07-17T00:00:00\", \"2020-07-18T00:00:00\", \"2020-07-19T00:00:00\", \"2020-07-20T00:00:00\", \"2020-07-21T00:00:00\", \"2020-07-22T00:00:00\", \"2020-07-23T00:00:00\", \"2020-07-24T00:00:00\", \"2020-07-25T00:00:00\", \"2020-07-26T00:00:00\", \"2020-07-27T00:00:00\", \"2020-07-28T00:00:00\", \"2020-07-29T00:00:00\", \"2020-07-30T00:00:00\", \"2020-07-31T00:00:00\", \"2020-08-01T00:00:00\", \"2020-08-02T00:00:00\", \"2020-08-03T00:00:00\", \"2020-08-04T00:00:00\", \"2020-08-05T00:00:00\", \"2020-08-06T00:00:00\", \"2020-08-07T00:00:00\", \"2020-08-08T00:00:00\", \"2020-08-09T00:00:00\", \"2020-08-10T00:00:00\", \"2020-08-11T00:00:00\", \"2020-08-12T00:00:00\", \"2020-08-13T00:00:00\", \"2020-08-14T00:00:00\", \"2020-08-15T00:00:00\", \"2020-08-16T00:00:00\", \"2020-08-17T00:00:00\", \"2020-08-18T00:00:00\", \"2020-08-19T00:00:00\", \"2020-08-20T00:00:00\", \"2020-08-21T00:00:00\", \"2020-08-22T00:00:00\", \"2020-08-23T00:00:00\", \"2020-08-24T00:00:00\", \"2020-08-25T00:00:00\", \"2020-08-26T00:00:00\", \"2020-08-27T00:00:00\", \"2020-08-28T00:00:00\", \"2020-08-29T00:00:00\", \"2020-08-30T00:00:00\", \"2020-08-31T00:00:00\", \"2020-09-01T00:00:00\", \"2020-09-02T00:00:00\", \"2020-09-03T00:00:00\", \"2020-09-04T00:00:00\", \"2020-09-05T00:00:00\", \"2020-09-06T00:00:00\", \"2020-09-07T00:00:00\", \"2020-09-08T00:00:00\", \"2020-09-09T00:00:00\", \"2020-09-10T00:00:00\", \"2020-09-11T00:00:00\", \"2020-09-12T00:00:00\", \"2020-09-13T00:00:00\", \"2020-09-14T00:00:00\", \"2020-09-15T00:00:00\", \"2020-09-16T00:00:00\", \"2020-09-17T00:00:00\", \"2020-09-18T00:00:00\", \"2020-09-19T00:00:00\", \"2020-09-20T00:00:00\", \"2020-09-21T00:00:00\", \"2020-09-22T00:00:00\", \"2020-09-23T00:00:00\", \"2020-09-24T00:00:00\", \"2020-09-25T00:00:00\", \"2020-09-26T00:00:00\", \"2020-09-27T00:00:00\", \"2020-09-28T00:00:00\", \"2020-09-29T00:00:00\", \"2020-09-30T00:00:00\", \"2020-10-01T00:00:00\", \"2020-10-02T00:00:00\", \"2020-10-03T00:00:00\", \"2020-10-04T00:00:00\", \"2020-10-05T00:00:00\", \"2020-10-06T00:00:00\", \"2020-10-07T00:00:00\", \"2020-10-08T00:00:00\", \"2020-10-09T00:00:00\", \"2020-10-10T00:00:00\", \"2020-10-11T00:00:00\", \"2020-10-12T00:00:00\", \"2020-10-13T00:00:00\", \"2020-10-14T00:00:00\", \"2020-10-15T00:00:00\", \"2020-10-16T00:00:00\", \"2020-10-17T00:00:00\", \"2020-10-18T00:00:00\", \"2020-10-19T00:00:00\", \"2020-10-20T00:00:00\", \"2020-10-21T00:00:00\", \"2020-10-22T00:00:00\", \"2020-10-23T00:00:00\", \"2020-10-24T00:00:00\", \"2020-10-25T00:00:00\", \"2020-10-26T00:00:00\", \"2020-10-27T00:00:00\", \"2020-10-28T00:00:00\", \"2020-10-29T00:00:00\", \"2020-10-30T00:00:00\", \"2020-10-31T00:00:00\", \"2020-11-01T00:00:00\", \"2020-11-02T00:00:00\", \"2020-11-03T00:00:00\", \"2020-11-04T00:00:00\", \"2020-11-05T00:00:00\", \"2020-11-06T00:00:00\", \"2020-11-07T00:00:00\", \"2020-11-08T00:00:00\", \"2020-11-09T00:00:00\", \"2020-11-10T00:00:00\", \"2020-11-11T00:00:00\", \"2020-11-12T00:00:00\", \"2020-11-13T00:00:00\", \"2020-11-14T00:00:00\", \"2020-11-15T00:00:00\", \"2020-11-16T00:00:00\", \"2020-11-17T00:00:00\", \"2020-11-18T00:00:00\", \"2020-11-19T00:00:00\", \"2020-11-20T00:00:00\", \"2020-11-21T00:00:00\", \"2020-11-22T00:00:00\", \"2020-11-23T00:00:00\", \"2020-11-24T00:00:00\", \"2020-11-25T00:00:00\"], \"y\": [0, 9, 13, 13, 18, 20, 31, 36, 38, 42, 47, 59, 73, 82, 92, 98, 106, 115, 140, 167, 195, 219, 237, 245, 257, 283, 303, 322, 347, 367, 382, 404, 456, 496, 535, 574, 603, 631, 670, 713, 764, 919, 1002, 1092, 1126, 1172, 1279, 1363, 1509, 1631, 1751, 1841, 1960, 2135, 2249, 2376, 2520, 2702, 2755, 2831, 2978, 3135, 3293, 3430, 3525, 3578, 3671, 3828, 4055, 4231, 4309, 4401, 4462, 4516, 4599, 4716, 4850, 4877, 4993, 5043, 5090, 5239, 5343, 5508, 5632, 5791, 5832, 5875, 6000, 6087, 6161, 6264, 6366, 6393, 6417, 6550, 6618, 6689, 6791, 6869, 6898, 6924, 7055, 7101, 7178, 7254, 7302, 7310, 7355, 7432, 7500, 7550, 7621, 7621, 7703, 7733, 7796, 7887, 7913, 7941, 8004, 8023, 8053, 8124, 8220, 8270, 8310, 8344, 8358, 8371, 8419, 8499, 8540, 8596, 8606, 8612, 8622, 8665, 8710, 8766, 8799, 8813, 8826, 8830, 8931, 9048, 9127, 9175, 9206, 9231, 9316, 9404, 9468, 9566, 9566, 9628, 9634, 9663, 9737, 9778, 9813, 9853, 9880, 9902, 9924, 9957, 10027, 10074, 10053, 10113, 10116, 10119, 10233, 10330, 10391, 10449, 10470, 10495, 10505, 10576, 10660, 10730, 10793, 10834, 10849, 10856, 10926, 10969, 11024, 11077, 11101, 11107, 11118, 11197, 11240, 11313, 11378, 11401, 11406, 11406, 11426, 11487, 11537, 11582, 11610, 11633, 11637, 11672, 11734, 11777, 11834, 11870, 11893, 11899, 11952, 12009, 12064, 12119, 12125, 12129, 12140, 12148, 12219, 12268, 12268, 12312, 12312, 12312, 12312, 12322, 12419, 12419, 12506, 12510, 12512, 12653, 12793, 12844, 12923, 12935, 12935, 12979, 13064, 13115]}, {\"line\": {\"dash\": \"dashdot\"}, \"mode\": \"lines+markers\", \"name\": \"Valida\\u00e7\\u00e3o 15 dias\", \"type\": \"scatter\", \"x\": [\"2020-11-13T00:00:00\", \"2020-11-14T00:00:00\", \"2020-11-15T00:00:00\", \"2020-11-16T00:00:00\", \"2020-11-17T00:00:00\", \"2020-11-18T00:00:00\", \"2020-11-19T00:00:00\", \"2020-11-20T00:00:00\", \"2020-11-21T00:00:00\", \"2020-11-22T00:00:00\", \"2020-11-23T00:00:00\", \"2020-11-24T00:00:00\", \"2020-11-25T00:00:00\", \"2020-11-26T00:00:00\", \"2020-11-27T00:00:00\"], \"y\": [12356.0, 12374.0, 12372.0, 12361.0, 12357.0, 12372.0, 12404.0, 12437.0, 12454.0, 12451.0, 12438.0, 12433.0, 12448.0, 12478.0, 12510.0]}, {\"line\": {\"dash\": \"dashdot\"}, \"mode\": \"lines+markers\", \"name\": \"Previs\\u00e3o para 30 dias\", \"type\": \"scatter\", \"x\": [\"2020-11-27T00:00:00\", \"2020-11-28T00:00:00\", \"2020-11-29T00:00:00\", \"2020-11-30T00:00:00\", \"2020-12-01T00:00:00\", \"2020-12-02T00:00:00\", \"2020-12-03T00:00:00\", \"2020-12-04T00:00:00\", \"2020-12-05T00:00:00\", \"2020-12-06T00:00:00\", \"2020-12-07T00:00:00\", \"2020-12-08T00:00:00\", \"2020-12-09T00:00:00\", \"2020-12-10T00:00:00\", \"2020-12-11T00:00:00\", \"2020-12-12T00:00:00\", \"2020-12-13T00:00:00\", \"2020-12-14T00:00:00\", \"2020-12-15T00:00:00\", \"2020-12-16T00:00:00\", \"2020-12-17T00:00:00\", \"2020-12-18T00:00:00\", \"2020-12-19T00:00:00\", \"2020-12-20T00:00:00\", \"2020-12-21T00:00:00\", \"2020-12-22T00:00:00\", \"2020-12-23T00:00:00\", \"2020-12-24T00:00:00\", \"2020-12-25T00:00:00\", \"2020-12-26T00:00:00\"], \"y\": [13177.0, 13229.0, 13267.0, 13279.0, 13304.0, 13375.0, 13437.0, 13501.0, 13549.0, 13591.0, 13606.0, 13628.0, 13696.0, 13760.0, 13825.0, 13872.0, 13915.0, 13931.0, 13951.0, 14019.0, 14084.0, 14148.0, 14195.0, 14239.0, 14255.0, 14276.0, 14344.0, 14408.0, 14473.0, 14520.0]}],\n",
              "                        {\"height\": 600, \"template\": {\"data\": {\"bar\": [{\"error_x\": {\"color\": \"#2a3f5f\"}, \"error_y\": {\"color\": \"#2a3f5f\"}, \"marker\": {\"line\": {\"color\": \"#E5ECF6\", \"width\": 0.5}}, \"type\": \"bar\"}], \"barpolar\": [{\"marker\": {\"line\": {\"color\": \"#E5ECF6\", \"width\": 0.5}}, \"type\": \"barpolar\"}], \"carpet\": [{\"aaxis\": {\"endlinecolor\": \"#2a3f5f\", \"gridcolor\": \"white\", \"linecolor\": \"white\", \"minorgridcolor\": \"white\", \"startlinecolor\": \"#2a3f5f\"}, \"baxis\": {\"endlinecolor\": \"#2a3f5f\", \"gridcolor\": \"white\", \"linecolor\": \"white\", \"minorgridcolor\": \"white\", \"startlinecolor\": \"#2a3f5f\"}, \"type\": \"carpet\"}], \"choropleth\": [{\"colorbar\": {\"outlinewidth\": 0, \"ticks\": \"\"}, \"type\": \"choropleth\"}], \"contour\": [{\"colorbar\": {\"outlinewidth\": 0, \"ticks\": \"\"}, \"colorscale\": [[0.0, \"#0d0887\"], [0.1111111111111111, \"#46039f\"], [0.2222222222222222, \"#7201a8\"], [0.3333333333333333, \"#9c179e\"], [0.4444444444444444, \"#bd3786\"], [0.5555555555555556, \"#d8576b\"], [0.6666666666666666, \"#ed7953\"], [0.7777777777777778, \"#fb9f3a\"], [0.8888888888888888, \"#fdca26\"], [1.0, \"#f0f921\"]], \"type\": \"contour\"}], \"contourcarpet\": [{\"colorbar\": {\"outlinewidth\": 0, \"ticks\": \"\"}, \"type\": \"contourcarpet\"}], \"heatmap\": [{\"colorbar\": {\"outlinewidth\": 0, \"ticks\": \"\"}, \"colorscale\": [[0.0, \"#0d0887\"], [0.1111111111111111, \"#46039f\"], [0.2222222222222222, \"#7201a8\"], [0.3333333333333333, \"#9c179e\"], [0.4444444444444444, \"#bd3786\"], [0.5555555555555556, \"#d8576b\"], [0.6666666666666666, \"#ed7953\"], [0.7777777777777778, \"#fb9f3a\"], [0.8888888888888888, \"#fdca26\"], [1.0, \"#f0f921\"]], \"type\": \"heatmap\"}], \"heatmapgl\": [{\"colorbar\": {\"outlinewidth\": 0, \"ticks\": \"\"}, \"colorscale\": [[0.0, \"#0d0887\"], [0.1111111111111111, \"#46039f\"], [0.2222222222222222, \"#7201a8\"], [0.3333333333333333, \"#9c179e\"], [0.4444444444444444, \"#bd3786\"], [0.5555555555555556, \"#d8576b\"], [0.6666666666666666, \"#ed7953\"], [0.7777777777777778, \"#fb9f3a\"], [0.8888888888888888, \"#fdca26\"], [1.0, \"#f0f921\"]], \"type\": \"heatmapgl\"}], \"histogram\": [{\"marker\": {\"colorbar\": {\"outlinewidth\": 0, \"ticks\": \"\"}}, \"type\": \"histogram\"}], \"histogram2d\": [{\"colorbar\": {\"outlinewidth\": 0, \"ticks\": \"\"}, \"colorscale\": [[0.0, \"#0d0887\"], [0.1111111111111111, \"#46039f\"], [0.2222222222222222, \"#7201a8\"], [0.3333333333333333, \"#9c179e\"], [0.4444444444444444, \"#bd3786\"], [0.5555555555555556, \"#d8576b\"], [0.6666666666666666, \"#ed7953\"], [0.7777777777777778, \"#fb9f3a\"], [0.8888888888888888, \"#fdca26\"], [1.0, \"#f0f921\"]], \"type\": \"histogram2d\"}], \"histogram2dcontour\": [{\"colorbar\": {\"outlinewidth\": 0, \"ticks\": \"\"}, \"colorscale\": [[0.0, \"#0d0887\"], [0.1111111111111111, \"#46039f\"], [0.2222222222222222, \"#7201a8\"], [0.3333333333333333, \"#9c179e\"], [0.4444444444444444, \"#bd3786\"], [0.5555555555555556, \"#d8576b\"], [0.6666666666666666, \"#ed7953\"], [0.7777777777777778, \"#fb9f3a\"], [0.8888888888888888, \"#fdca26\"], [1.0, \"#f0f921\"]], \"type\": \"histogram2dcontour\"}], \"mesh3d\": [{\"colorbar\": {\"outlinewidth\": 0, \"ticks\": \"\"}, \"type\": \"mesh3d\"}], \"parcoords\": [{\"line\": {\"colorbar\": {\"outlinewidth\": 0, \"ticks\": \"\"}}, \"type\": \"parcoords\"}], \"pie\": [{\"automargin\": true, \"type\": \"pie\"}], \"scatter\": [{\"marker\": {\"colorbar\": {\"outlinewidth\": 0, \"ticks\": \"\"}}, \"type\": \"scatter\"}], \"scatter3d\": [{\"line\": {\"colorbar\": {\"outlinewidth\": 0, \"ticks\": \"\"}}, \"marker\": {\"colorbar\": {\"outlinewidth\": 0, \"ticks\": \"\"}}, \"type\": \"scatter3d\"}], \"scattercarpet\": [{\"marker\": {\"colorbar\": {\"outlinewidth\": 0, \"ticks\": \"\"}}, \"type\": \"scattercarpet\"}], \"scattergeo\": [{\"marker\": {\"colorbar\": {\"outlinewidth\": 0, \"ticks\": \"\"}}, \"type\": \"scattergeo\"}], \"scattergl\": [{\"marker\": {\"colorbar\": {\"outlinewidth\": 0, \"ticks\": \"\"}}, \"type\": \"scattergl\"}], \"scattermapbox\": [{\"marker\": {\"colorbar\": {\"outlinewidth\": 0, \"ticks\": \"\"}}, \"type\": \"scattermapbox\"}], \"scatterpolar\": [{\"marker\": {\"colorbar\": {\"outlinewidth\": 0, \"ticks\": \"\"}}, \"type\": \"scatterpolar\"}], \"scatterpolargl\": [{\"marker\": {\"colorbar\": {\"outlinewidth\": 0, \"ticks\": \"\"}}, \"type\": \"scatterpolargl\"}], \"scatterternary\": [{\"marker\": {\"colorbar\": {\"outlinewidth\": 0, \"ticks\": \"\"}}, \"type\": \"scatterternary\"}], \"surface\": [{\"colorbar\": {\"outlinewidth\": 0, \"ticks\": \"\"}, \"colorscale\": [[0.0, \"#0d0887\"], [0.1111111111111111, \"#46039f\"], [0.2222222222222222, \"#7201a8\"], [0.3333333333333333, \"#9c179e\"], [0.4444444444444444, \"#bd3786\"], [0.5555555555555556, \"#d8576b\"], [0.6666666666666666, \"#ed7953\"], [0.7777777777777778, \"#fb9f3a\"], [0.8888888888888888, \"#fdca26\"], [1.0, \"#f0f921\"]], \"type\": \"surface\"}], \"table\": [{\"cells\": {\"fill\": {\"color\": \"#EBF0F8\"}, \"line\": {\"color\": \"white\"}}, \"header\": {\"fill\": {\"color\": \"#C8D4E3\"}, \"line\": {\"color\": \"white\"}}, \"type\": \"table\"}]}, \"layout\": {\"annotationdefaults\": {\"arrowcolor\": \"#2a3f5f\", \"arrowhead\": 0, \"arrowwidth\": 1}, \"coloraxis\": {\"colorbar\": {\"outlinewidth\": 0, \"ticks\": \"\"}}, \"colorscale\": {\"diverging\": [[0, \"#8e0152\"], [0.1, \"#c51b7d\"], [0.2, \"#de77ae\"], [0.3, \"#f1b6da\"], [0.4, \"#fde0ef\"], [0.5, \"#f7f7f7\"], [0.6, \"#e6f5d0\"], [0.7, \"#b8e186\"], [0.8, \"#7fbc41\"], [0.9, \"#4d9221\"], [1, \"#276419\"]], \"sequential\": [[0.0, \"#0d0887\"], [0.1111111111111111, \"#46039f\"], [0.2222222222222222, \"#7201a8\"], [0.3333333333333333, \"#9c179e\"], [0.4444444444444444, \"#bd3786\"], [0.5555555555555556, \"#d8576b\"], [0.6666666666666666, \"#ed7953\"], [0.7777777777777778, \"#fb9f3a\"], [0.8888888888888888, \"#fdca26\"], [1.0, \"#f0f921\"]], \"sequentialminus\": [[0.0, \"#0d0887\"], [0.1111111111111111, \"#46039f\"], [0.2222222222222222, \"#7201a8\"], [0.3333333333333333, \"#9c179e\"], [0.4444444444444444, \"#bd3786\"], [0.5555555555555556, \"#d8576b\"], [0.6666666666666666, \"#ed7953\"], [0.7777777777777778, \"#fb9f3a\"], [0.8888888888888888, \"#fdca26\"], [1.0, \"#f0f921\"]]}, \"colorway\": [\"#636efa\", \"#EF553B\", \"#00cc96\", \"#ab63fa\", \"#FFA15A\", \"#19d3f3\", \"#FF6692\", \"#B6E880\", \"#FF97FF\", \"#FECB52\"], \"font\": {\"color\": \"#2a3f5f\"}, \"geo\": {\"bgcolor\": \"white\", \"lakecolor\": \"white\", \"landcolor\": \"#E5ECF6\", \"showlakes\": true, \"showland\": true, \"subunitcolor\": \"white\"}, \"hoverlabel\": {\"align\": \"left\"}, \"hovermode\": \"closest\", \"mapbox\": {\"style\": \"light\"}, \"paper_bgcolor\": \"white\", \"plot_bgcolor\": \"#E5ECF6\", \"polar\": {\"angularaxis\": {\"gridcolor\": \"white\", \"linecolor\": \"white\", \"ticks\": \"\"}, \"bgcolor\": \"#E5ECF6\", \"radialaxis\": {\"gridcolor\": \"white\", \"linecolor\": \"white\", \"ticks\": \"\"}}, \"scene\": {\"xaxis\": {\"backgroundcolor\": \"#E5ECF6\", \"gridcolor\": \"white\", \"gridwidth\": 2, \"linecolor\": \"white\", \"showbackground\": true, \"ticks\": \"\", \"zerolinecolor\": \"white\"}, \"yaxis\": {\"backgroundcolor\": \"#E5ECF6\", \"gridcolor\": \"white\", \"gridwidth\": 2, \"linecolor\": \"white\", \"showbackground\": true, \"ticks\": \"\", \"zerolinecolor\": \"white\"}, \"zaxis\": {\"backgroundcolor\": \"#E5ECF6\", \"gridcolor\": \"white\", \"gridwidth\": 2, \"linecolor\": \"white\", \"showbackground\": true, \"ticks\": \"\", \"zerolinecolor\": \"white\"}}, \"shapedefaults\": {\"line\": {\"color\": \"#2a3f5f\"}}, \"ternary\": {\"aaxis\": {\"gridcolor\": \"white\", \"linecolor\": \"white\", \"ticks\": \"\"}, \"baxis\": {\"gridcolor\": \"white\", \"linecolor\": \"white\", \"ticks\": \"\"}, \"bgcolor\": \"#E5ECF6\", \"caxis\": {\"gridcolor\": \"white\", \"linecolor\": \"white\", \"ticks\": \"\"}}, \"title\": {\"x\": 0.05}, \"xaxis\": {\"automargin\": true, \"gridcolor\": \"white\", \"linecolor\": \"white\", \"ticks\": \"\", \"title\": {\"standoff\": 15}, \"zerolinecolor\": \"white\", \"zerolinewidth\": 2}, \"yaxis\": {\"automargin\": true, \"gridcolor\": \"white\", \"linecolor\": \"white\", \"ticks\": \"\", \"title\": {\"standoff\": 15}, \"zerolinecolor\": \"white\", \"zerolinewidth\": 2}}}, \"title\": {\"text\": \"Validando efici\\u00eancia do modelo com dados ja existentes.\"}, \"width\": 1200},\n",
              "                        {\"responsive\": true}\n",
              "                    ).then(function(){\n",
              "                            \n",
              "var gd = document.getElementById('fad2ba46-d1dc-43cb-a034-e58fcc8ad8a1');\n",
              "var x = new MutationObserver(function (mutations, observer) {{\n",
              "        var display = window.getComputedStyle(gd).display;\n",
              "        if (!display || display === 'none') {{\n",
              "            console.log([gd, 'removed!']);\n",
              "            Plotly.purge(gd);\n",
              "            observer.disconnect();\n",
              "        }}\n",
              "}});\n",
              "\n",
              "// Listen for the removal of the full notebook cells\n",
              "var notebookContainer = gd.closest('#notebook-container');\n",
              "if (notebookContainer) {{\n",
              "    x.observe(notebookContainer, {childList: true});\n",
              "}}\n",
              "\n",
              "// Listen for the clearing of the current output cell\n",
              "var outputEl = gd.closest('.output');\n",
              "if (outputEl) {{\n",
              "    x.observe(outputEl, {childList: true});\n",
              "}}\n",
              "\n",
              "                        })\n",
              "                };\n",
              "                \n",
              "            </script>\n",
              "        </div>\n",
              "</body>\n",
              "</html>"
            ]
          },
          "metadata": {
            "tags": []
          }
        }
      ]
    }
  ]
}